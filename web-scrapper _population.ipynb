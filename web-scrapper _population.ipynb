{
 "cells": [
  {
   "cell_type": "code",
   "execution_count": 1,
   "id": "48e23a2e",
   "metadata": {},
   "outputs": [],
   "source": [
    "import csv\n",
    "import requests\n",
    "from bs4 import BeautifulSoup\n",
    "\n",
    "url = 'https://www.worldometers.info/world-population/population-by-country/'\n",
    "\n",
    "# Send a GET request to the URL\n",
    "response = requests.get(url)\n",
    "\n",
    "# Parse the HTML content using BeautifulSoup\n",
    "soup = BeautifulSoup(response.content, 'html.parser')\n",
    "\n",
    "# Find the table containing the population data\n",
    "table = soup.find('table', {'id': 'example2'})\n",
    "\n",
    "# Find all the rows in the table\n",
    "rows = table.find_all('tr')\n",
    "\n",
    "# Create a CSV file\n",
    "csv_file = open('population_data.csv', 'w', newline='', encoding='utf-8')\n",
    "csv_writer = csv.writer(csv_file)\n",
    "csv_writer.writerow(['Country', 'Population', 'Yearly Change', 'Land Area'])\n",
    "\n",
    "# Loop through each row and extract the data\n",
    "for row in rows[1:]:  # Skip the header row\n",
    "    # Find all the cells in the row\n",
    "    cells = row.find_all('td')\n",
    "\n",
    "    # Extract the country name\n",
    "    country = cells[1].text.strip()\n",
    "\n",
    "    # Extract the population count\n",
    "    population = cells[2].text.strip()\n",
    "\n",
    "    # Extract the yearly change\n",
    "    yearly_change = cells[3].text.strip()\n",
    "\n",
    "    # Extract the land area\n",
    "    land_area = cells[6].text.strip()\n",
    "\n",
    "    # Write the data to the CSV file\n",
    "    csv_writer.writerow([country, population, yearly_change, land_area])\n",
    "\n",
    "# Close the CSV file\n",
    "csv_file.close()\n"
   ]
  },
  {
   "cell_type": "code",
   "execution_count": 2,
   "id": "f4e06a30",
   "metadata": {},
   "outputs": [],
   "source": [
    "import pandas as pd\n",
    "df=pd.read_csv('population_data.csv')"
   ]
  },
  {
   "cell_type": "code",
   "execution_count": 3,
   "id": "94ce24b5",
   "metadata": {},
   "outputs": [
    {
     "data": {
      "text/html": [
       "<div>\n",
       "<style scoped>\n",
       "    .dataframe tbody tr th:only-of-type {\n",
       "        vertical-align: middle;\n",
       "    }\n",
       "\n",
       "    .dataframe tbody tr th {\n",
       "        vertical-align: top;\n",
       "    }\n",
       "\n",
       "    .dataframe thead th {\n",
       "        text-align: right;\n",
       "    }\n",
       "</style>\n",
       "<table border=\"1\" class=\"dataframe\">\n",
       "  <thead>\n",
       "    <tr style=\"text-align: right;\">\n",
       "      <th></th>\n",
       "      <th>Country</th>\n",
       "      <th>Population</th>\n",
       "      <th>Yearly Change</th>\n",
       "      <th>Land Area</th>\n",
       "    </tr>\n",
       "  </thead>\n",
       "  <tbody>\n",
       "    <tr>\n",
       "      <th>0</th>\n",
       "      <td>China</td>\n",
       "      <td>1,439,323,776</td>\n",
       "      <td>0.39 %</td>\n",
       "      <td>9,388,211</td>\n",
       "    </tr>\n",
       "    <tr>\n",
       "      <th>1</th>\n",
       "      <td>India</td>\n",
       "      <td>1,380,004,385</td>\n",
       "      <td>0.99 %</td>\n",
       "      <td>2,973,190</td>\n",
       "    </tr>\n",
       "    <tr>\n",
       "      <th>2</th>\n",
       "      <td>United States</td>\n",
       "      <td>331,002,651</td>\n",
       "      <td>0.59 %</td>\n",
       "      <td>9,147,420</td>\n",
       "    </tr>\n",
       "    <tr>\n",
       "      <th>3</th>\n",
       "      <td>Indonesia</td>\n",
       "      <td>273,523,615</td>\n",
       "      <td>1.07 %</td>\n",
       "      <td>1,811,570</td>\n",
       "    </tr>\n",
       "    <tr>\n",
       "      <th>4</th>\n",
       "      <td>Pakistan</td>\n",
       "      <td>220,892,340</td>\n",
       "      <td>2.00 %</td>\n",
       "      <td>770,880</td>\n",
       "    </tr>\n",
       "  </tbody>\n",
       "</table>\n",
       "</div>"
      ],
      "text/plain": [
       "         Country     Population Yearly Change  Land Area\n",
       "0          China  1,439,323,776        0.39 %  9,388,211\n",
       "1          India  1,380,004,385        0.99 %  2,973,190\n",
       "2  United States    331,002,651        0.59 %  9,147,420\n",
       "3      Indonesia    273,523,615        1.07 %  1,811,570\n",
       "4       Pakistan    220,892,340        2.00 %    770,880"
      ]
     },
     "execution_count": 3,
     "metadata": {},
     "output_type": "execute_result"
    }
   ],
   "source": [
    "df.head()"
   ]
  },
  {
   "cell_type": "code",
   "execution_count": null,
   "id": "60a15828",
   "metadata": {},
   "outputs": [],
   "source": []
  }
 ],
 "metadata": {
  "kernelspec": {
   "display_name": "Python 3 (ipykernel)",
   "language": "python",
   "name": "python3"
  },
  "language_info": {
   "codemirror_mode": {
    "name": "ipython",
    "version": 3
   },
   "file_extension": ".py",
   "mimetype": "text/x-python",
   "name": "python",
   "nbconvert_exporter": "python",
   "pygments_lexer": "ipython3",
   "version": "3.9.13"
  }
 },
 "nbformat": 4,
 "nbformat_minor": 5
}
